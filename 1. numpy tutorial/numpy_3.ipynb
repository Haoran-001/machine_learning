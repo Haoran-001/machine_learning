{
 "cells": [
  {
   "cell_type": "code",
   "execution_count": 1,
   "metadata": {
    "collapsed": false
   },
   "outputs": [
    {
     "name": "stdout",
     "output_type": "stream",
     "text": [
      "[0 1 2]\n",
      "[0.         1.         1.41421356]\n"
     ]
    }
   ],
   "source": [
    "import numpy as np\n",
    "B = np.arange(3)\n",
    "print(B)\n",
    "print(np.sqrt(B))"
   ]
  },
  {
   "cell_type": "code",
   "execution_count": 3,
   "metadata": {
    "collapsed": false
   },
   "outputs": [
    {
     "name": "stdout",
     "output_type": "stream",
     "text": [
      "[[8. 9. 2. 9.]\n",
      " [5. 7. 6. 3.]\n",
      " [4. 3. 2. 3.]]\n",
      "[8. 9. 2. 9. 5. 7. 6. 3. 4. 3. 2. 3.]\n",
      "[[8. 9.]\n",
      " [2. 9.]\n",
      " [5. 7.]\n",
      " [6. 3.]\n",
      " [4. 3.]\n",
      " [2. 3.]]\n",
      "None\n",
      "[[8. 9. 2. 9. 5. 7.]\n",
      " [6. 3. 4. 3. 2. 3.]]\n"
     ]
    }
   ],
   "source": [
    "a = np.floor(10*np.random.random((3,4)))\n",
    "print(a)\n",
    "\n",
    "a.shape\n",
    "# flatten the array\n",
    "print(a.ravel())\n",
    "a.shape = (6, 2)\n",
    "print(a)\n",
    "#print a.T\n",
    "print(a.resize((2,6)))\n",
    "print(a)"
   ]
  },
  {
   "cell_type": "code",
   "execution_count": 2,
   "metadata": {
    "collapsed": false
   },
   "outputs": [
    {
     "name": "stdout",
     "output_type": "stream",
     "text": [
      "[[7. 6.]\n",
      " [7. 4.]]\n",
      "---\n",
      "[[2. 2.]\n",
      " [8. 3.]]\n",
      "---\n",
      "[[7. 6. 2. 2.]\n",
      " [7. 4. 8. 3.]]\n"
     ]
    },
    {
     "data": {
      "text/plain": [
       "array([[7., 6., 2., 2.],\n",
       "       [7., 4., 8., 3.]])"
      ]
     },
     "execution_count": 2,
     "metadata": {},
     "output_type": "execute_result"
    }
   ],
   "source": [
    "a = np.floor(10*np.random.random((2,2)))\n",
    "b = np.floor(10*np.random.random((2,2)))\n",
    "print(a)\n",
    "print('---')\n",
    "print(b)\n",
    "print('---')\n",
    "print(np.hstack((a,b)))\n",
    "np.hstack((a,b))"
   ]
  },
  {
   "cell_type": "code",
   "execution_count": 4,
   "metadata": {
    "collapsed": false
   },
   "outputs": [
    {
     "name": "stdout",
     "output_type": "stream",
     "text": [
      "[[5. 8. 4. 4. 7. 6. 7. 4. 3. 6. 5. 4.]\n",
      " [6. 7. 9. 0. 1. 5. 2. 1. 5. 9. 9. 5.]]\n",
      "[array([[5., 8., 4., 4.],\n",
      "       [6., 7., 9., 0.]]), array([[7., 6., 7., 4.],\n",
      "       [1., 5., 2., 1.]]), array([[3., 6., 5., 4.],\n",
      "       [5., 9., 9., 5.]])]\n",
      "[array([[5., 8., 4.],\n",
      "       [6., 7., 9.]]), array([[4.],\n",
      "       [0.]]), array([[7., 6., 7., 4., 3., 6., 5., 4.],\n",
      "       [1., 5., 2., 1., 5., 9., 9., 5.]])]\n",
      "[[1. 3.]\n",
      " [6. 1.]\n",
      " [3. 9.]\n",
      " [6. 6.]\n",
      " [8. 3.]\n",
      " [4. 4.]\n",
      " [5. 4.]\n",
      " [4. 7.]\n",
      " [4. 1.]\n",
      " [6. 9.]\n",
      " [6. 1.]\n",
      " [5. 1.]]\n"
     ]
    },
    {
     "data": {
      "text/plain": [
       "[array([[1., 3.],\n",
       "        [6., 1.],\n",
       "        [3., 9.],\n",
       "        [6., 6.]]),\n",
       " array([[8., 3.],\n",
       "        [4., 4.],\n",
       "        [5., 4.],\n",
       "        [4., 7.]]),\n",
       " array([[4., 1.],\n",
       "        [6., 9.],\n",
       "        [6., 1.],\n",
       "        [5., 1.]])]"
      ]
     },
     "execution_count": 4,
     "metadata": {},
     "output_type": "execute_result"
    }
   ],
   "source": [
    "a = np.floor(10*np.random.random((2,12)))\n",
    "print(a)\n",
    "print(np.hsplit(a,3))\n",
    "print(np.hsplit(a,(3,4)))  # Split a after the third and the fourth column\n",
    "a = np.floor(10*np.random.random((12,2)))\n",
    "print(a)\n",
    "np.vsplit(a,3)"
   ]
  },
  {
   "cell_type": "code",
   "execution_count": 6,
   "metadata": {
    "collapsed": false
   },
   "outputs": [
    {
     "name": "stdout",
     "output_type": "stream",
     "text": [
      "(3, 4)\n",
      "2052669563984\n",
      "2052669563984\n"
     ]
    }
   ],
   "source": [
    "#Simple assignments make no copy of array objects or of their data.\n",
    "a = np.arange(12)\n",
    "b = a\n",
    "# a and b are two names for the same ndarray object\n",
    "b is a\n",
    "b.shape = 3,4\n",
    "print(a.shape)\n",
    "print(id(a))\n",
    "print(id(b))"
   ]
  },
  {
   "cell_type": "code",
   "execution_count": 7,
   "metadata": {
    "collapsed": false
   },
   "outputs": [
    {
     "data": {
      "text/plain": [
       "array([[   0,    1,    2,    3],\n",
       "       [1234,    5,    6,    7],\n",
       "       [   8,    9,   10,   11]])"
      ]
     },
     "execution_count": 7,
     "metadata": {},
     "output_type": "execute_result"
    }
   ],
   "source": [
    "#The view method creates a new array object that looks at the same data.\n",
    "c = a.view()\n",
    "c is a\n",
    "c.shape = 2,6\n",
    "#print a.shape\n",
    "c[0,4] = 1234\n",
    "a"
   ]
  },
  {
   "cell_type": "code",
   "execution_count": 8,
   "metadata": {
    "collapsed": false
   },
   "outputs": [
    {
     "name": "stdout",
     "output_type": "stream",
     "text": [
      "[[9999    1    2    3]\n",
      " [1234    5    6    7]\n",
      " [   8    9   10   11]]\n",
      "[[   0    1    2    3]\n",
      " [1234    5    6    7]\n",
      " [   8    9   10   11]]\n"
     ]
    }
   ],
   "source": [
    "#The copy method makes a complete copy of the array and its data.\n",
    "d = a.copy() \n",
    "d is a\n",
    "d[0,0] = 9999\n",
    "print(d)\n",
    "print(a)"
   ]
  }
 ],
 "metadata": {
  "kernelspec": {
   "display_name": "python37",
   "language": "python",
   "name": "python3"
  },
  "language_info": {
   "codemirror_mode": {
    "name": "ipython",
    "version": 3
   },
   "file_extension": ".py",
   "mimetype": "text/x-python",
   "name": "python",
   "nbconvert_exporter": "python",
   "pygments_lexer": "ipython3",
   "version": "3.7.13"
  }
 },
 "nbformat": 4,
 "nbformat_minor": 1
}
