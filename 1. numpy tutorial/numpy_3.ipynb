{
 "cells": [
  {
   "cell_type": "code",
   "execution_count": 1,
   "metadata": {},
   "outputs": [
    {
     "name": "stdout",
     "output_type": "stream",
     "text": [
      "[0 1 2]\n",
      "[1.         2.71828183 7.3890561 ]\n",
      "[0.         1.         1.41421356]\n"
     ]
    }
   ],
   "source": [
    "import numpy as np\n",
    "B = np.arange(3)\n",
    "print(B)\n",
    "print(np.exp(B))\n",
    "print(np.sqrt(B))"
   ]
  },
  {
   "cell_type": "code",
   "execution_count": 5,
   "metadata": {},
   "outputs": [
    {
     "name": "stdout",
     "output_type": "stream",
     "text": [
      "[[4. 4. 1. 4.]\n",
      " [8. 8. 7. 1.]\n",
      " [6. 5. 2. 5.]]\n",
      "---------\n",
      "[4. 4. 1. 4. 8. 8. 7. 1. 6. 5. 2. 5.]\n",
      "---------\n",
      "[[4. 4.]\n",
      " [1. 4.]\n",
      " [8. 8.]\n",
      " [7. 1.]\n",
      " [6. 5.]\n",
      " [2. 5.]]\n",
      "---------\n",
      "[[4. 1. 8. 7. 6. 2.]\n",
      " [4. 4. 8. 1. 5. 5.]]\n"
     ]
    }
   ],
   "source": [
    "a = np.floor(10 * np.random.random((3, 4)))\n",
    "print(a)\n",
    "print('---------')\n",
    "print(a.ravel())\n",
    "print('---------')\n",
    "a.shape = (6, 2)\n",
    "print(a)\n",
    "print('---------')\n",
    "print(a.T)"
   ]
  },
  {
   "cell_type": "code",
   "execution_count": 23,
   "metadata": {},
   "outputs": [
    {
     "name": "stdout",
     "output_type": "stream",
     "text": [
      "[[4. 7.]\n",
      " [0. 3.]]\n",
      "---------\n",
      "[[1. 0.]\n",
      " [1. 3.]]\n",
      "---------\n",
      "[[4. 7. 1. 0.]\n",
      " [0. 3. 1. 3.]]\n",
      "[[4. 7.]\n",
      " [0. 3.]\n",
      " [1. 0.]\n",
      " [1. 3.]]\n"
     ]
    }
   ],
   "source": [
    "import numpy as np\n",
    "\n",
    "np.random.seed(1)\n",
    "a = np.floor(10 * np.random.random((2, 2)))\n",
    "b = np.floor(10 * np.random.random((2, 2)))\n",
    "print(a)\n",
    "print('---------')\n",
    "print(b)\n",
    "print('---------')\n",
    "print(np.hstack((a, b)))\n",
    "print(np.vstack((a, b)))"
   ]
  },
  {
   "cell_type": "code",
   "execution_count": 29,
   "metadata": {},
   "outputs": [
    {
     "name": "stdout",
     "output_type": "stream",
     "text": [
      "[[4. 7. 0. 3. 1. 0. 1. 3. 3. 5. 4. 6.]\n",
      " [2. 8. 0. 6. 4. 5. 1. 1. 8. 9. 3. 6.]]\n",
      "---\n",
      "[array([[4., 7., 0., 3.],\n",
      "       [2., 8., 0., 6.]]), array([[1., 0., 1., 3.],\n",
      "       [4., 5., 1., 1.]]), array([[3., 5., 4., 6.],\n",
      "       [8., 9., 3., 6.]])]\n",
      "[array([[4., 7., 0., 3., 1., 0., 1., 3., 3., 5., 4., 6.]]), array([[2., 8., 0., 6., 4., 5., 1., 1., 8., 9., 3., 6.]])]\n"
     ]
    }
   ],
   "source": [
    "np.random.seed(1)\n",
    "a = np.floor(10 * np.random.random((2, 12)))\n",
    "print(a)\n",
    "print('---')\n",
    "print(np.hsplit(a, 3))\n",
    "print(np.vsplit(a, 2))"
   ]
  },
  {
   "cell_type": "code",
   "execution_count": 31,
   "metadata": {},
   "outputs": [
    {
     "name": "stdout",
     "output_type": "stream",
     "text": [
      "[[4. 7. 0. 3. 1. 0. 1. 3. 3. 5. 4. 6.]\n",
      " [2. 8. 0. 6. 4. 5. 1. 1. 8. 9. 3. 6.]]\n",
      "---\n",
      "[array([[4., 7., 0.],\n",
      "       [2., 8., 0.]]), array([[3.],\n",
      "       [6.]]), array([[1., 0.],\n",
      "       [4., 5.]]), array([[1.],\n",
      "       [1.]]), array([[3., 3., 5., 4., 6.],\n",
      "       [1., 8., 9., 3., 6.]])]\n"
     ]
    }
   ],
   "source": [
    "np.random.seed(1)\n",
    "a = np.floor(10 * np.random.random((2, 12)))\n",
    "print(a)\n",
    "print('---')\n",
    "print(np.hsplit(a, (3, 4, 6, 7))) # split a after third, fourth, sixth and seventh column\n",
    "\n"
   ]
  },
  {
   "cell_type": "code",
   "execution_count": 37,
   "metadata": {},
   "outputs": [
    {
     "name": "stdout",
     "output_type": "stream",
     "text": [
      "True\n",
      "(3, 4)\n",
      "1340642962864\n",
      "1340642962864\n"
     ]
    }
   ],
   "source": [
    "a = np.arange(12)\n",
    "b = a\n",
    "print(b is a)\n",
    "b.shape = 3, 4\n",
    "print(a.shape)\n",
    "print(id(a))\n",
    "print(id(b))"
   ]
  },
  {
   "cell_type": "code",
   "execution_count": 41,
   "metadata": {},
   "outputs": [
    {
     "name": "stdout",
     "output_type": "stream",
     "text": [
      "False\n",
      "[[ 0  1  2  3  4  5]\n",
      " [ 6  7  8  9 10 11]]\n",
      "(3, 4)\n",
      "[[   0    1    2    3 1234    5]\n",
      " [   6    7    8    9   10   11]]\n",
      "[[   0    1    2    3]\n",
      " [1234    5    6    7]\n",
      " [   8    9   10   11]]\n"
     ]
    }
   ],
   "source": [
    "c = a.view()\n",
    "print(c is a)\n",
    "c.shape = 2, 6\n",
    "print(c)\n",
    "print(a.shape)\n",
    "c[0, 4] = 1234\n",
    "print(c)\n",
    "print(a)\n",
    "\n"
   ]
  },
  {
   "cell_type": "code",
   "execution_count": 43,
   "metadata": {},
   "outputs": [
    {
     "name": "stdout",
     "output_type": "stream",
     "text": [
      "False\n",
      "[[9999    1    2    3]\n",
      " [1234    5    6    7]\n",
      " [   8    9   10   11]]\n",
      "[[   0    1    2    3]\n",
      " [1234    5    6    7]\n",
      " [   8    9   10   11]]\n"
     ]
    }
   ],
   "source": [
    "d = a.copy()\n",
    "print(d is a)\n",
    "d[0, 0] = 9999\n",
    "print(d)\n",
    "print(a)"
   ]
  },
  {
   "cell_type": "code",
   "execution_count": 49,
   "metadata": {},
   "outputs": [
    {
     "name": "stdout",
     "output_type": "stream",
     "text": [
      "[[ 0 10 20 30]]\n",
      "(1, 4)\n",
      "[[ 0 10 20 30  0 10 20 30  0 10 20 30  0 10 20 30  0 10 20 30]\n",
      " [ 0 10 20 30  0 10 20 30  0 10 20 30  0 10 20 30  0 10 20 30]\n",
      " [ 0 10 20 30  0 10 20 30  0 10 20 30  0 10 20 30  0 10 20 30]]\n",
      "(3, 20)\n"
     ]
    }
   ],
   "source": [
    "a = np.arange(0, 40, 10).reshape(1, 4)\n",
    "print(a)\n",
    "print(a.shape)\n",
    "b = np.tile(a, (3, 5))\n",
    "print(b)\n",
    "print(b.shape)"
   ]
  }
 ],
 "metadata": {
  "kernelspec": {
   "display_name": "python37",
   "language": "python",
   "name": "python3"
  },
  "language_info": {
   "codemirror_mode": {
    "name": "ipython",
    "version": 3
   },
   "file_extension": ".py",
   "mimetype": "text/x-python",
   "name": "python",
   "nbconvert_exporter": "python",
   "pygments_lexer": "ipython3",
   "version": "3.7.13"
  },
  "orig_nbformat": 4
 },
 "nbformat": 4,
 "nbformat_minor": 2
}
